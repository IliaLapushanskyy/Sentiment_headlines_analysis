{
  "nbformat": 4,
  "nbformat_minor": 0,
  "metadata": {
    "colab": {
      "provenance": [],
      "authorship_tag": "ABX9TyMLm0x1xpA/grOiKWkY0KOL",
      "include_colab_link": true
    },
    "kernelspec": {
      "name": "python3",
      "display_name": "Python 3"
    },
    "language_info": {
      "name": "python"
    }
  },
  "cells": [
    {
      "cell_type": "markdown",
      "metadata": {
        "id": "view-in-github",
        "colab_type": "text"
      },
      "source": [
        "<a href=\"https://colab.research.google.com/github/IliaLapushanskyy/Sentiment_headlines_analysis/blob/main/Sentiment_classification.ipynb\" target=\"_parent\"><img src=\"https://colab.research.google.com/assets/colab-badge.svg\" alt=\"Open In Colab\"/></a>"
      ]
    },
    {
      "cell_type": "markdown",
      "source": [
        "# Загрузка библиотек"
      ],
      "metadata": {
        "id": "H-ffpaEYwdLP"
      }
    },
    {
      "cell_type": "code",
      "execution_count": 71,
      "metadata": {
        "id": "9YIztMaqvjyF"
      },
      "outputs": [],
      "source": [
        "import pandas as pd\n",
        "import numpy as np\n",
        "import re\n",
        "import string\n",
        "from sklearn.feature_extraction.text import TfidfVectorizer\n",
        "from sklearn.linear_model import LogisticRegression\n",
        "from sklearn.model_selection import train_test_split\n",
        "from sklearn.metrics import classification_report\n",
        "from collections import defaultdict\n",
        "from sklearn.ensemble import StackingClassifier, RandomForestClassifier\n",
        "import nltk\n",
        "from nltk.stem import SnowballStemmer\n",
        "from nltk.tokenize import word_tokenize\n",
        "from imblearn.over_sampling import SMOTE\n",
        "from sklearn.svm import SVC"
      ]
    },
    {
      "cell_type": "markdown",
      "source": [
        "# Загрузка данных и первичный анализ данных"
      ],
      "metadata": {
        "id": "Grkrp2gYwkzv"
      }
    },
    {
      "cell_type": "code",
      "source": [
        "df = pd.read_csv('train.csv', on_bad_lines='warn', sep = ';')\n",
        "\n",
        "print(df.columns)\n",
        "print(df.head())"
      ],
      "metadata": {
        "colab": {
          "base_uri": "https://localhost:8080/"
        },
        "id": "7dDSLewQwrZ_",
        "outputId": "1f5c5ecc-e801-4be2-ff94-ac63ccbea3a7"
      },
      "execution_count": 72,
      "outputs": [
        {
          "output_type": "stream",
          "name": "stdout",
          "text": [
            "Index(['id', 'text', 'sber', 'vtb', 'gazprom', 'alfabank', 'raiffeisen',\n",
            "       'rshb', 'company'],\n",
            "      dtype='object')\n",
            "      id                                               text  sber  vtb  \\\n",
            "0   8292  #novosti Сбербанк и ВТБ пообещали выполнить об...   1.0  1.0   \n",
            "1  10897  Корея может стать следующей Японией для инвест...   NaN  NaN   \n",
            "2   3964  #Новые санкции затрагивают и Газпромбанк  #sledui   NaN  NaN   \n",
            "3  11829  VEON заявила об обесценивании бизнеса в России...   NaN  NaN   \n",
            "4  18814                          банк втб ипотечный кредит   NaN  0.0   \n",
            "\n",
            "   gazprom  alfabank  raiffeisen  rshb  company  \n",
            "0      NaN       NaN         NaN   NaN      NaN  \n",
            "1      NaN       NaN         NaN   NaN      NaN  \n",
            "2     -1.0       NaN         NaN   NaN      NaN  \n",
            "3      NaN       NaN         NaN   NaN     -1.0  \n",
            "4      NaN       NaN         NaN   NaN      NaN  \n"
          ]
        }
      ]
    },
    {
      "cell_type": "code",
      "source": [
        "df.info()"
      ],
      "metadata": {
        "colab": {
          "base_uri": "https://localhost:8080/"
        },
        "id": "T_cnX5H9ydQS",
        "outputId": "f16a09f8-3eb0-4870-dc6e-e2e6ee1f373f"
      },
      "execution_count": 73,
      "outputs": [
        {
          "output_type": "stream",
          "name": "stdout",
          "text": [
            "<class 'pandas.core.frame.DataFrame'>\n",
            "RangeIndex: 7161 entries, 0 to 7160\n",
            "Data columns (total 9 columns):\n",
            " #   Column      Non-Null Count  Dtype  \n",
            "---  ------      --------------  -----  \n",
            " 0   id          7161 non-null   int64  \n",
            " 1   text        7161 non-null   object \n",
            " 2   sber        3344 non-null   float64\n",
            " 3   vtb         1478 non-null   float64\n",
            " 4   gazprom     404 non-null    float64\n",
            " 5   alfabank    654 non-null    float64\n",
            " 6   raiffeisen  273 non-null    float64\n",
            " 7   rshb        468 non-null    float64\n",
            " 8   company     743 non-null    float64\n",
            "dtypes: float64(7), int64(1), object(1)\n",
            "memory usage: 503.6+ KB\n"
          ]
        }
      ]
    },
    {
      "cell_type": "code",
      "source": [
        "print(\"\\nПропуски:\")\n",
        "print(df.isna().sum())"
      ],
      "metadata": {
        "colab": {
          "base_uri": "https://localhost:8080/"
        },
        "id": "xPWGx-c_yzMc",
        "outputId": "6e537498-c0ae-4516-f54b-b37afc1fbd08"
      },
      "execution_count": 74,
      "outputs": [
        {
          "output_type": "stream",
          "name": "stdout",
          "text": [
            "\n",
            "Пропуски:\n",
            "id               0\n",
            "text             0\n",
            "sber          3817\n",
            "vtb           5683\n",
            "gazprom       6757\n",
            "alfabank      6507\n",
            "raiffeisen    6888\n",
            "rshb          6693\n",
            "company       6418\n",
            "dtype: int64\n"
          ]
        }
      ]
    },
    {
      "cell_type": "markdown",
      "source": [
        "Также важно понимать, сколько и каких значений мы ожидаем увидеть для разных компаний"
      ],
      "metadata": {
        "id": "sANBWrHCMMZ0"
      }
    },
    {
      "cell_type": "code",
      "source": [
        "sentiment_cols = ['sber', 'vtb', 'gazprom', 'alfabank', 'raiffeisen', 'rshb', 'company']\n",
        "\n",
        "for col in sentiment_cols:\n",
        "    print(f\"\\n{col} sentiment distribution:\")\n",
        "    print(df[col].value_counts(dropna=False))"
      ],
      "metadata": {
        "colab": {
          "base_uri": "https://localhost:8080/"
        },
        "id": "s-rODLbFy0Ms",
        "outputId": "2563b3e8-5378-4827-c010-c0e9a2e4f84a"
      },
      "execution_count": 75,
      "outputs": [
        {
          "output_type": "stream",
          "name": "stdout",
          "text": [
            "\n",
            "sber sentiment distribution:\n",
            "sber\n",
            " NaN    3817\n",
            " 0.0    2069\n",
            " 1.0     648\n",
            "-1.0     627\n",
            "Name: count, dtype: int64\n",
            "\n",
            "vtb sentiment distribution:\n",
            "vtb\n",
            " NaN    5683\n",
            " 0.0    1107\n",
            "-1.0     284\n",
            " 1.0      87\n",
            "Name: count, dtype: int64\n",
            "\n",
            "gazprom sentiment distribution:\n",
            "gazprom\n",
            " NaN    6757\n",
            " 0.0     232\n",
            "-1.0     130\n",
            " 1.0      42\n",
            "Name: count, dtype: int64\n",
            "\n",
            "alfabank sentiment distribution:\n",
            "alfabank\n",
            " NaN    6507\n",
            " 0.0     513\n",
            "-1.0     100\n",
            " 1.0      41\n",
            "Name: count, dtype: int64\n",
            "\n",
            "raiffeisen sentiment distribution:\n",
            "raiffeisen\n",
            " NaN    6888\n",
            " 0.0     240\n",
            "-1.0      18\n",
            " 1.0      15\n",
            "Name: count, dtype: int64\n",
            "\n",
            "rshb sentiment distribution:\n",
            "rshb\n",
            " NaN    6693\n",
            " 0.0     304\n",
            "-1.0     126\n",
            " 1.0      38\n",
            "Name: count, dtype: int64\n",
            "\n",
            "company sentiment distribution:\n",
            "company\n",
            " NaN    6418\n",
            " 1.0     273\n",
            " 0.0     258\n",
            "-1.0     212\n",
            "Name: count, dtype: int64\n"
          ]
        }
      ]
    },
    {
      "cell_type": "markdown",
      "source": [
        "# Предобработка текста"
      ],
      "metadata": {
        "id": "_qk-2d8szOcf"
      }
    },
    {
      "cell_type": "markdown",
      "source": [
        "Подключим NLTK (Natural Language Toolkit) для того чтобы лучше обрабатывать русский язык"
      ],
      "metadata": {
        "id": "YypK_huHMVmc"
      }
    },
    {
      "cell_type": "code",
      "source": [
        "nltk.download('punkt')\n",
        "nltk.download('stopwords')\n",
        "nltk.download('punkt_tab')\n",
        "\n",
        "stemmer = SnowballStemmer(\"russian\")\n",
        "stop_words = set(nltk.corpus.stopwords.words('russian'))"
      ],
      "metadata": {
        "colab": {
          "base_uri": "https://localhost:8080/"
        },
        "id": "YgxAKqnm-ITk",
        "outputId": "f1849e3c-5bbc-4b52-d9b4-ee5ab1fff241"
      },
      "execution_count": 76,
      "outputs": [
        {
          "output_type": "stream",
          "name": "stderr",
          "text": [
            "[nltk_data] Downloading package punkt to /root/nltk_data...\n",
            "[nltk_data]   Package punkt is already up-to-date!\n",
            "[nltk_data] Downloading package stopwords to /root/nltk_data...\n",
            "[nltk_data]   Package stopwords is already up-to-date!\n",
            "[nltk_data] Downloading package punkt_tab to /root/nltk_data...\n",
            "[nltk_data]   Package punkt_tab is already up-to-date!\n"
          ]
        }
      ]
    },
    {
      "cell_type": "code",
      "source": [
        "df['clean_text'] = df['text'].astype(str)\n",
        "\n",
        "\n",
        "# Приводим к строковому типу\n",
        "df['clean_text'] = df['text'].astype(str)\n",
        "\n",
        "# Приведение к нижнему регистру\n",
        "df['clean_text'] = df['clean_text'].str.lower()\n",
        "\n",
        "# Удаление ссылок\n",
        "df['clean_text'] = df['clean_text'].apply(lambda x: re.sub(r'http\\S+|www\\S+|https\\S+', '', x))\n",
        "\n",
        "# Удаление чисел\n",
        "df['clean_text'] = df['clean_text'].apply(lambda x: re.sub(r'\\d+', '', x))\n",
        "\n",
        "# Удаление пунктуации\n",
        "df['clean_text'] = df['clean_text'].apply(lambda x: x.translate(str.maketrans('', '', string.punctuation)))\n",
        "\n",
        "# Удаление лишних пробелов\n",
        "df['clean_text'] = df['clean_text'].apply(lambda x: re.sub(r'\\s+', ' ', x).strip())\n",
        "\n",
        "# Токенизация\n",
        "df['clean_text'] = df['clean_text'].apply(lambda x: ' '.join([stemmer.stem(token) for token in word_tokenize(x)\n",
        "                                                             if token not in stop_words and len(token) > 2]))\n",
        "df[['text', 'clean_text']].head()"
      ],
      "metadata": {
        "colab": {
          "base_uri": "https://localhost:8080/",
          "height": 206
        },
        "id": "yMfEiguUzQ2W",
        "outputId": "34208f9b-456d-402b-9120-f661192f21d5"
      },
      "execution_count": 77,
      "outputs": [
        {
          "output_type": "execute_result",
          "data": {
            "text/plain": [
              "                                                text  \\\n",
              "0  #novosti Сбербанк и ВТБ пообещали выполнить об...   \n",
              "1  Корея может стать следующей Японией для инвест...   \n",
              "2  #Новые санкции затрагивают и Газпромбанк  #sledui   \n",
              "3  VEON заявила об обесценивании бизнеса в России...   \n",
              "4                          банк втб ипотечный кредит   \n",
              "\n",
              "                                          clean_text  \n",
              "0  novosti сбербанк втб пообеща выполн обязательс...  \n",
              "1                       коре стат след япон инвестор  \n",
              "2             нов санкц затрагива газпромбанк sledui  \n",
              "3      veon заяв обесцениван бизнес росс млн квартал  \n",
              "4                              банк втб ипотечн кред  "
            ],
            "text/html": [
              "\n",
              "  <div id=\"df-25254330-4523-40b5-8574-5f2a7638852c\" class=\"colab-df-container\">\n",
              "    <div>\n",
              "<style scoped>\n",
              "    .dataframe tbody tr th:only-of-type {\n",
              "        vertical-align: middle;\n",
              "    }\n",
              "\n",
              "    .dataframe tbody tr th {\n",
              "        vertical-align: top;\n",
              "    }\n",
              "\n",
              "    .dataframe thead th {\n",
              "        text-align: right;\n",
              "    }\n",
              "</style>\n",
              "<table border=\"1\" class=\"dataframe\">\n",
              "  <thead>\n",
              "    <tr style=\"text-align: right;\">\n",
              "      <th></th>\n",
              "      <th>text</th>\n",
              "      <th>clean_text</th>\n",
              "    </tr>\n",
              "  </thead>\n",
              "  <tbody>\n",
              "    <tr>\n",
              "      <th>0</th>\n",
              "      <td>#novosti Сбербанк и ВТБ пообещали выполнить об...</td>\n",
              "      <td>novosti сбербанк втб пообеща выполн обязательс...</td>\n",
              "    </tr>\n",
              "    <tr>\n",
              "      <th>1</th>\n",
              "      <td>Корея может стать следующей Японией для инвест...</td>\n",
              "      <td>коре стат след япон инвестор</td>\n",
              "    </tr>\n",
              "    <tr>\n",
              "      <th>2</th>\n",
              "      <td>#Новые санкции затрагивают и Газпромбанк  #sledui</td>\n",
              "      <td>нов санкц затрагива газпромбанк sledui</td>\n",
              "    </tr>\n",
              "    <tr>\n",
              "      <th>3</th>\n",
              "      <td>VEON заявила об обесценивании бизнеса в России...</td>\n",
              "      <td>veon заяв обесцениван бизнес росс млн квартал</td>\n",
              "    </tr>\n",
              "    <tr>\n",
              "      <th>4</th>\n",
              "      <td>банк втб ипотечный кредит</td>\n",
              "      <td>банк втб ипотечн кред</td>\n",
              "    </tr>\n",
              "  </tbody>\n",
              "</table>\n",
              "</div>\n",
              "    <div class=\"colab-df-buttons\">\n",
              "\n",
              "  <div class=\"colab-df-container\">\n",
              "    <button class=\"colab-df-convert\" onclick=\"convertToInteractive('df-25254330-4523-40b5-8574-5f2a7638852c')\"\n",
              "            title=\"Convert this dataframe to an interactive table.\"\n",
              "            style=\"display:none;\">\n",
              "\n",
              "  <svg xmlns=\"http://www.w3.org/2000/svg\" height=\"24px\" viewBox=\"0 -960 960 960\">\n",
              "    <path d=\"M120-120v-720h720v720H120Zm60-500h600v-160H180v160Zm220 220h160v-160H400v160Zm0 220h160v-160H400v160ZM180-400h160v-160H180v160Zm440 0h160v-160H620v160ZM180-180h160v-160H180v160Zm440 0h160v-160H620v160Z\"/>\n",
              "  </svg>\n",
              "    </button>\n",
              "\n",
              "  <style>\n",
              "    .colab-df-container {\n",
              "      display:flex;\n",
              "      gap: 12px;\n",
              "    }\n",
              "\n",
              "    .colab-df-convert {\n",
              "      background-color: #E8F0FE;\n",
              "      border: none;\n",
              "      border-radius: 50%;\n",
              "      cursor: pointer;\n",
              "      display: none;\n",
              "      fill: #1967D2;\n",
              "      height: 32px;\n",
              "      padding: 0 0 0 0;\n",
              "      width: 32px;\n",
              "    }\n",
              "\n",
              "    .colab-df-convert:hover {\n",
              "      background-color: #E2EBFA;\n",
              "      box-shadow: 0px 1px 2px rgba(60, 64, 67, 0.3), 0px 1px 3px 1px rgba(60, 64, 67, 0.15);\n",
              "      fill: #174EA6;\n",
              "    }\n",
              "\n",
              "    .colab-df-buttons div {\n",
              "      margin-bottom: 4px;\n",
              "    }\n",
              "\n",
              "    [theme=dark] .colab-df-convert {\n",
              "      background-color: #3B4455;\n",
              "      fill: #D2E3FC;\n",
              "    }\n",
              "\n",
              "    [theme=dark] .colab-df-convert:hover {\n",
              "      background-color: #434B5C;\n",
              "      box-shadow: 0px 1px 3px 1px rgba(0, 0, 0, 0.15);\n",
              "      filter: drop-shadow(0px 1px 2px rgba(0, 0, 0, 0.3));\n",
              "      fill: #FFFFFF;\n",
              "    }\n",
              "  </style>\n",
              "\n",
              "    <script>\n",
              "      const buttonEl =\n",
              "        document.querySelector('#df-25254330-4523-40b5-8574-5f2a7638852c button.colab-df-convert');\n",
              "      buttonEl.style.display =\n",
              "        google.colab.kernel.accessAllowed ? 'block' : 'none';\n",
              "\n",
              "      async function convertToInteractive(key) {\n",
              "        const element = document.querySelector('#df-25254330-4523-40b5-8574-5f2a7638852c');\n",
              "        const dataTable =\n",
              "          await google.colab.kernel.invokeFunction('convertToInteractive',\n",
              "                                                    [key], {});\n",
              "        if (!dataTable) return;\n",
              "\n",
              "        const docLinkHtml = 'Like what you see? Visit the ' +\n",
              "          '<a target=\"_blank\" href=https://colab.research.google.com/notebooks/data_table.ipynb>data table notebook</a>'\n",
              "          + ' to learn more about interactive tables.';\n",
              "        element.innerHTML = '';\n",
              "        dataTable['output_type'] = 'display_data';\n",
              "        await google.colab.output.renderOutput(dataTable, element);\n",
              "        const docLink = document.createElement('div');\n",
              "        docLink.innerHTML = docLinkHtml;\n",
              "        element.appendChild(docLink);\n",
              "      }\n",
              "    </script>\n",
              "  </div>\n",
              "\n",
              "\n",
              "    <div id=\"df-86ca9a95-9bdb-4560-8197-b981a0c99c13\">\n",
              "      <button class=\"colab-df-quickchart\" onclick=\"quickchart('df-86ca9a95-9bdb-4560-8197-b981a0c99c13')\"\n",
              "                title=\"Suggest charts\"\n",
              "                style=\"display:none;\">\n",
              "\n",
              "<svg xmlns=\"http://www.w3.org/2000/svg\" height=\"24px\"viewBox=\"0 0 24 24\"\n",
              "     width=\"24px\">\n",
              "    <g>\n",
              "        <path d=\"M19 3H5c-1.1 0-2 .9-2 2v14c0 1.1.9 2 2 2h14c1.1 0 2-.9 2-2V5c0-1.1-.9-2-2-2zM9 17H7v-7h2v7zm4 0h-2V7h2v10zm4 0h-2v-4h2v4z\"/>\n",
              "    </g>\n",
              "</svg>\n",
              "      </button>\n",
              "\n",
              "<style>\n",
              "  .colab-df-quickchart {\n",
              "      --bg-color: #E8F0FE;\n",
              "      --fill-color: #1967D2;\n",
              "      --hover-bg-color: #E2EBFA;\n",
              "      --hover-fill-color: #174EA6;\n",
              "      --disabled-fill-color: #AAA;\n",
              "      --disabled-bg-color: #DDD;\n",
              "  }\n",
              "\n",
              "  [theme=dark] .colab-df-quickchart {\n",
              "      --bg-color: #3B4455;\n",
              "      --fill-color: #D2E3FC;\n",
              "      --hover-bg-color: #434B5C;\n",
              "      --hover-fill-color: #FFFFFF;\n",
              "      --disabled-bg-color: #3B4455;\n",
              "      --disabled-fill-color: #666;\n",
              "  }\n",
              "\n",
              "  .colab-df-quickchart {\n",
              "    background-color: var(--bg-color);\n",
              "    border: none;\n",
              "    border-radius: 50%;\n",
              "    cursor: pointer;\n",
              "    display: none;\n",
              "    fill: var(--fill-color);\n",
              "    height: 32px;\n",
              "    padding: 0;\n",
              "    width: 32px;\n",
              "  }\n",
              "\n",
              "  .colab-df-quickchart:hover {\n",
              "    background-color: var(--hover-bg-color);\n",
              "    box-shadow: 0 1px 2px rgba(60, 64, 67, 0.3), 0 1px 3px 1px rgba(60, 64, 67, 0.15);\n",
              "    fill: var(--button-hover-fill-color);\n",
              "  }\n",
              "\n",
              "  .colab-df-quickchart-complete:disabled,\n",
              "  .colab-df-quickchart-complete:disabled:hover {\n",
              "    background-color: var(--disabled-bg-color);\n",
              "    fill: var(--disabled-fill-color);\n",
              "    box-shadow: none;\n",
              "  }\n",
              "\n",
              "  .colab-df-spinner {\n",
              "    border: 2px solid var(--fill-color);\n",
              "    border-color: transparent;\n",
              "    border-bottom-color: var(--fill-color);\n",
              "    animation:\n",
              "      spin 1s steps(1) infinite;\n",
              "  }\n",
              "\n",
              "  @keyframes spin {\n",
              "    0% {\n",
              "      border-color: transparent;\n",
              "      border-bottom-color: var(--fill-color);\n",
              "      border-left-color: var(--fill-color);\n",
              "    }\n",
              "    20% {\n",
              "      border-color: transparent;\n",
              "      border-left-color: var(--fill-color);\n",
              "      border-top-color: var(--fill-color);\n",
              "    }\n",
              "    30% {\n",
              "      border-color: transparent;\n",
              "      border-left-color: var(--fill-color);\n",
              "      border-top-color: var(--fill-color);\n",
              "      border-right-color: var(--fill-color);\n",
              "    }\n",
              "    40% {\n",
              "      border-color: transparent;\n",
              "      border-right-color: var(--fill-color);\n",
              "      border-top-color: var(--fill-color);\n",
              "    }\n",
              "    60% {\n",
              "      border-color: transparent;\n",
              "      border-right-color: var(--fill-color);\n",
              "    }\n",
              "    80% {\n",
              "      border-color: transparent;\n",
              "      border-right-color: var(--fill-color);\n",
              "      border-bottom-color: var(--fill-color);\n",
              "    }\n",
              "    90% {\n",
              "      border-color: transparent;\n",
              "      border-bottom-color: var(--fill-color);\n",
              "    }\n",
              "  }\n",
              "</style>\n",
              "\n",
              "      <script>\n",
              "        async function quickchart(key) {\n",
              "          const quickchartButtonEl =\n",
              "            document.querySelector('#' + key + ' button');\n",
              "          quickchartButtonEl.disabled = true;  // To prevent multiple clicks.\n",
              "          quickchartButtonEl.classList.add('colab-df-spinner');\n",
              "          try {\n",
              "            const charts = await google.colab.kernel.invokeFunction(\n",
              "                'suggestCharts', [key], {});\n",
              "          } catch (error) {\n",
              "            console.error('Error during call to suggestCharts:', error);\n",
              "          }\n",
              "          quickchartButtonEl.classList.remove('colab-df-spinner');\n",
              "          quickchartButtonEl.classList.add('colab-df-quickchart-complete');\n",
              "        }\n",
              "        (() => {\n",
              "          let quickchartButtonEl =\n",
              "            document.querySelector('#df-86ca9a95-9bdb-4560-8197-b981a0c99c13 button');\n",
              "          quickchartButtonEl.style.display =\n",
              "            google.colab.kernel.accessAllowed ? 'block' : 'none';\n",
              "        })();\n",
              "      </script>\n",
              "    </div>\n",
              "    </div>\n",
              "  </div>\n"
            ],
            "application/vnd.google.colaboratory.intrinsic+json": {
              "type": "dataframe",
              "summary": "{\n  \"name\": \"df[['text', 'clean_text']]\",\n  \"rows\": 5,\n  \"fields\": [\n    {\n      \"column\": \"text\",\n      \"properties\": {\n        \"dtype\": \"string\",\n        \"num_unique_values\": 5,\n        \"samples\": [\n          \"\\u041a\\u043e\\u0440\\u0435\\u044f \\u043c\\u043e\\u0436\\u0435\\u0442 \\u0441\\u0442\\u0430\\u0442\\u044c \\u0441\\u043b\\u0435\\u0434\\u0443\\u044e\\u0449\\u0435\\u0439 \\u042f\\u043f\\u043e\\u043d\\u0438\\u0435\\u0439 \\u0434\\u043b\\u044f \\u0438\\u043d\\u0432\\u0435\\u0441\\u0442\\u043e\\u0440\\u043e\\u0432\",\n          \"\\u0431\\u0430\\u043d\\u043a \\u0432\\u0442\\u0431 \\u0438\\u043f\\u043e\\u0442\\u0435\\u0447\\u043d\\u044b\\u0439 \\u043a\\u0440\\u0435\\u0434\\u0438\\u0442\",\n          \"#\\u041d\\u043e\\u0432\\u044b\\u0435 \\u0441\\u0430\\u043d\\u043a\\u0446\\u0438\\u0438 \\u0437\\u0430\\u0442\\u0440\\u0430\\u0433\\u0438\\u0432\\u0430\\u044e\\u0442 \\u0438 \\u0413\\u0430\\u0437\\u043f\\u0440\\u043e\\u043c\\u0431\\u0430\\u043d\\u043a  #sledui\"\n        ],\n        \"semantic_type\": \"\",\n        \"description\": \"\"\n      }\n    },\n    {\n      \"column\": \"clean_text\",\n      \"properties\": {\n        \"dtype\": \"string\",\n        \"num_unique_values\": 5,\n        \"samples\": [\n          \"\\u043a\\u043e\\u0440\\u0435 \\u0441\\u0442\\u0430\\u0442 \\u0441\\u043b\\u0435\\u0434 \\u044f\\u043f\\u043e\\u043d \\u0438\\u043d\\u0432\\u0435\\u0441\\u0442\\u043e\\u0440\",\n          \"\\u0431\\u0430\\u043d\\u043a \\u0432\\u0442\\u0431 \\u0438\\u043f\\u043e\\u0442\\u0435\\u0447\\u043d \\u043a\\u0440\\u0435\\u0434\",\n          \"\\u043d\\u043e\\u0432 \\u0441\\u0430\\u043d\\u043a\\u0446 \\u0437\\u0430\\u0442\\u0440\\u0430\\u0433\\u0438\\u0432\\u0430 \\u0433\\u0430\\u0437\\u043f\\u0440\\u043e\\u043c\\u0431\\u0430\\u043d\\u043a sledui\"\n        ],\n        \"semantic_type\": \"\",\n        \"description\": \"\"\n      }\n    }\n  ]\n}"
            }
          },
          "metadata": {},
          "execution_count": 77
        }
      ]
    },
    {
      "cell_type": "markdown",
      "source": [
        "# Векторизация"
      ],
      "metadata": {
        "id": "hKbdjuu3z99y"
      }
    },
    {
      "cell_type": "code",
      "source": [
        "stop_words_list = list(stop_words)\n",
        "\n",
        "vectorizer = TfidfVectorizer(\n",
        "    max_features=15000,\n",
        "    ngram_range=(1, 3),\n",
        "    min_df=3,\n",
        "    max_df=0.9,\n",
        "    stop_words=stop_words_list\n",
        ")\n",
        "X_tfidf = vectorizer.fit_transform(df['clean_text'])\n",
        "print(\"Размер матрицы TF-IDF:\", X_tfidf.shape)"
      ],
      "metadata": {
        "colab": {
          "base_uri": "https://localhost:8080/"
        },
        "id": "lxf0cUo70Av3",
        "outputId": "22667541-6ccf-4ea0-d99a-14db6c9d2f65"
      },
      "execution_count": 97,
      "outputs": [
        {
          "output_type": "stream",
          "name": "stdout",
          "text": [
            "Размер матрицы TF-IDF: (7161, 5841)\n"
          ]
        }
      ]
    },
    {
      "cell_type": "markdown",
      "source": [
        "# Обучение модели"
      ],
      "metadata": {
        "id": "7MLGW3qA0czf"
      }
    },
    {
      "cell_type": "code",
      "source": [
        "targets = ['sber', 'vtb', 'gazprom', 'alfabank', 'raiffeisen', 'rshb', 'company']\n",
        "\n",
        "models = {}\n",
        "reports = {}\n",
        "\n",
        "for col in targets:\n",
        "    print(f'\\n          Обучение модели для: {col}    ')\n",
        "\n",
        "    # Только строки с валидными метками\n",
        "    df_col = df[df[col].notnull()].copy()\n",
        "    y = df_col[col].astype(int)\n",
        "    X = vectorizer.transform(df_col['clean_text'])\n",
        "\n",
        "    X_train, X_val, y_train, y_val = train_test_split(X, y, test_size=0.2, random_state=42, stratify=y)\n",
        "\n",
        "    # Балансировка классов\n",
        "    smote = SMOTE(random_state=42)\n",
        "    X_res, y_res = smote.fit_resample(X_train, y_train)\n",
        "\n",
        "    model = LogisticRegression(max_iter=1000, class_weight='balanced')\n",
        "    model.fit(X_res, y_res)\n",
        "\n",
        "    y_pred = model.predict(X_val)\n",
        "    report = classification_report(y_val, y_pred, digits=3, output_dict=True)\n",
        "    print(classification_report(y_val, y_pred, digits=3))\n",
        "\n",
        "    models[col] = model\n",
        "    reports[col] = report"
      ],
      "metadata": {
        "colab": {
          "base_uri": "https://localhost:8080/"
        },
        "id": "7uuJI3LO0cIP",
        "outputId": "a28cb382-b1fd-4148-8a38-8f3b247ff414"
      },
      "execution_count": 82,
      "outputs": [
        {
          "output_type": "stream",
          "name": "stdout",
          "text": [
            "\n",
            "          Обучение модели для: sber    \n",
            "              precision    recall  f1-score   support\n",
            "\n",
            "          -1      0.752     0.728     0.740       125\n",
            "           0      0.889     0.855     0.872       414\n",
            "           1      0.693     0.800     0.743       130\n",
            "\n",
            "    accuracy                          0.821       669\n",
            "   macro avg      0.778     0.794     0.785       669\n",
            "weighted avg      0.826     0.821     0.822       669\n",
            "\n",
            "\n",
            "          Обучение модели для: vtb    \n",
            "              precision    recall  f1-score   support\n",
            "\n",
            "          -1      0.869     0.930     0.898        57\n",
            "           0      0.968     0.950     0.959       222\n",
            "           1      0.647     0.647     0.647        17\n",
            "\n",
            "    accuracy                          0.929       296\n",
            "   macro avg      0.828     0.842     0.835       296\n",
            "weighted avg      0.930     0.929     0.929       296\n",
            "\n",
            "\n",
            "          Обучение модели для: gazprom    \n",
            "              precision    recall  f1-score   support\n",
            "\n",
            "          -1      0.958     0.885     0.920        26\n",
            "           0      0.900     0.957     0.928        47\n",
            "           1      0.857     0.750     0.800         8\n",
            "\n",
            "    accuracy                          0.914        81\n",
            "   macro avg      0.905     0.864     0.883        81\n",
            "weighted avg      0.914     0.914     0.913        81\n",
            "\n",
            "\n",
            "          Обучение модели для: alfabank    \n",
            "              precision    recall  f1-score   support\n",
            "\n",
            "          -1      0.565     0.650     0.605        20\n",
            "           0      0.902     0.893     0.898       103\n",
            "           1      0.500     0.375     0.429         8\n",
            "\n",
            "    accuracy                          0.824       131\n",
            "   macro avg      0.656     0.639     0.644       131\n",
            "weighted avg      0.826     0.824     0.824       131\n",
            "\n",
            "\n",
            "          Обучение модели для: raiffeisen    \n",
            "              precision    recall  f1-score   support\n",
            "\n",
            "          -1      0.500     0.250     0.333         4\n",
            "           0      0.922     0.979     0.949        48\n",
            "           1      0.500     0.333     0.400         3\n",
            "\n",
            "    accuracy                          0.891        55\n",
            "   macro avg      0.641     0.521     0.561        55\n",
            "weighted avg      0.868     0.891     0.875        55\n",
            "\n",
            "\n",
            "          Обучение модели для: rshb    \n",
            "              precision    recall  f1-score   support\n",
            "\n",
            "          -1      0.920     0.920     0.920        25\n",
            "           0      0.887     0.902     0.894        61\n",
            "           1      0.429     0.375     0.400         8\n",
            "\n",
            "    accuracy                          0.862        94\n",
            "   macro avg      0.745     0.732     0.738        94\n",
            "weighted avg      0.857     0.862     0.859        94\n",
            "\n",
            "\n",
            "          Обучение модели для: company    \n",
            "              precision    recall  f1-score   support\n",
            "\n",
            "          -1      0.651     0.667     0.659        42\n",
            "           0      0.702     0.769     0.734        52\n",
            "           1      0.653     0.582     0.615        55\n",
            "\n",
            "    accuracy                          0.671       149\n",
            "   macro avg      0.669     0.673     0.669       149\n",
            "weighted avg      0.670     0.671     0.669       149\n",
            "\n"
          ]
        }
      ]
    }
  ]
}